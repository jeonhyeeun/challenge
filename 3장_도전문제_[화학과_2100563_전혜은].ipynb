{
  "nbformat": 4,
  "nbformat_minor": 0,
  "metadata": {
    "colab": {
      "name": "3장 도전문제 [화학과 2100563 전혜은]",
      "provenance": [],
      "authorship_tag": "ABX9TyOOajNvIXb4oxdbOnAntyEY",
      "include_colab_link": true
    },
    "kernelspec": {
      "name": "python3",
      "display_name": "Python 3"
    },
    "language_info": {
      "name": "python"
    }
  },
  "cells": [
    {
      "cell_type": "markdown",
      "metadata": {
        "id": "view-in-github",
        "colab_type": "text"
      },
      "source": [
        "<a href=\"https://colab.research.google.com/github/jeonhyeeun/challenge/blob/main/3%EC%9E%A5_%EB%8F%84%EC%A0%84%EB%AC%B8%EC%A0%9C_%5B%ED%99%94%ED%95%99%EA%B3%BC_2100563_%EC%A0%84%ED%98%9C%EC%9D%80%5D.ipynb\" target=\"_parent\"><img src=\"https://colab.research.google.com/assets/colab-badge.svg\" alt=\"Open In Colab\"/></a>"
      ]
    },
    {
      "cell_type": "markdown",
      "metadata": {
        "id": "jKt_i4gjANdr"
      },
      "source": [
        "1. 총 재료 비용이 10000원이었다고 하자, 이익을 계산해보자. 적자인지, 흑자인지 표시하라."
      ]
    },
    {
      "cell_type": "code",
      "metadata": {
        "id": "UVhJey27AIF0"
      },
      "source": [
        "total = 10000\n",
        "americano_price = 2000\n",
        "cafelatte_price = 3000\n",
        "capucino_price = 3500\n",
        "\n",
        "americanos = int(input(\"아메리카노 판매 개수: \"))\n",
        "cafelattes = int(input(\"카페라테 판매 개수: \"))\n",
        "capucinos = int(input(\"카푸치노 판매 개수: \"))\n",
        "\n",
        "sales = americanos * americano_price\n",
        "sales = sales + cafelattes * cafelatte_price\n",
        "sales = sales + capucinos * capucinos_price\n",
        "print(\"총 매출은\", sales, \"입니다.\")\n",
        "\n",
        "if (total < sales) : print(\"흑자입니다.\")\n",
        "else : print(\"적자입니다.\")"
      ],
      "execution_count": null,
      "outputs": []
    },
    {
      "cell_type": "markdown",
      "metadata": {
        "id": "Nv-4NlXMAYuT"
      },
      "source": [
        "2. 섭씨온도를 화씨온도로 변환하는 프로그램을 작성해보자."
      ]
    },
    {
      "cell_type": "code",
      "metadata": {
        "id": "yg-Sbm0_AZf1"
      },
      "source": [
        "c.temp = int(input(\"섭씨 온도: \")\n",
        "f.temp = 9/5 * c.temp + 32\n",
        "print(\"화씨온도: \",f.temp)"
      ],
      "execution_count": null,
      "outputs": []
    },
    {
      "cell_type": "markdown",
      "metadata": {
        "id": "-qHgX_gRAgy5"
      },
      "source": [
        "3. 자판기가 만약 50짜리 동전과 10원짜리 동전도 거슬러 줄 수 있다면 위의 코드르 어떻게 수정해야 하는가?"
      ]
    },
    {
      "cell_type": "code",
      "metadata": {
        "id": "qiZATk8HAhMO"
      },
      "source": [
        "money = int(input(\"투입한 돈: \"))\n",
        "price = int(input(\"물건 값: \"))\n",
        "\n",
        "change = money - price\n",
        "print(\"거스름돈: \", change)\n",
        "coin500s = change // 500\n",
        "change = change % 500\n",
        "coin100s = change // 100\n",
        "change = change % 100\n",
        "coin50s = change // 50\n",
        "change = change % 50\n",
        "coin10s = change // 10\n",
        "change = change % 10\n",
        "print(\"500원 동전의 개수: \", coin500s)\n",
        "print(\"100원 동전의 개수: \", coin100s)\n",
        "print(\"50원 동전의 개수: \", coin50s)\n",
        "print(\"10원 동전의 개수: \", coin10s)"
      ],
      "execution_count": null,
      "outputs": []
    },
    {
      "cell_type": "markdown",
      "metadata": {
        "id": "MNCK1UgQAup0"
      },
      "source": [
        "4. 다음 프로그램 코드에 주석을 달아보자.\n",
        "money = int(input(\"투입한 돈: \"))\n",
        "price = int(input(\"물건 값: \"))\n",
        "change = money - price\n",
        "coin500s = change // 500\n",
        "change = change % 500\n",
        "coin100s = change //100\n",
        "print(\"500원 동전의 개수: \", coin500s)\n",
        "print(\"100원 동전의 개수: \", coin100s)"
      ]
    },
    {
      "cell_type": "code",
      "metadata": {
        "id": "as9-uXdmAuzO"
      },
      "source": [
        "money = int(input(\"투입한 돈: \"))          # 변수 money를 선언하고 정수형으로 받는다.\n",
        "price = int(input(\"물건 값: \"))            # 변수 price를 선언하고 정수로 받는다.\n",
        "\n",
        "change = money - price                     # 거스름돈을 계산한다.\n",
        "coin500s = change // 500                   # 500으로 나누어서 몫이 500원짜리의 개수이다.\n",
        "change = change % 500                      # 500으로 나눈 나머지를 계산한다.\n",
        "coin100s = change // 100                   # 100으로 나누어서 몫이 100원짜리의 개수이다.\n",
        "\n",
        "print(\"500원 동전의 개수: \", coin500s)     # 거슬러줄 500원짜리의 개수를 출력한다.\n",
        "print(\"100원 동전의 개수: \", coin100s)     # 거슬러줄 100원짜리의 개수를 출력한다."
      ],
      "execution_count": null,
      "outputs": []
    }
  ]
}