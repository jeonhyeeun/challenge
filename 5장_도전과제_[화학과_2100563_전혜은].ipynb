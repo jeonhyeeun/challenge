{
  "nbformat": 4,
  "nbformat_minor": 0,
  "metadata": {
    "colab": {
      "name": "5장 도전과제 [화학과 2100563 전혜은]",
      "provenance": [],
      "authorship_tag": "ABX9TyOwzzXqhASZp0iterot/Rmp",
      "include_colab_link": true
    },
    "kernelspec": {
      "name": "python3",
      "display_name": "Python 3"
    },
    "language_info": {
      "name": "python"
    }
  },
  "cells": [
    {
      "cell_type": "markdown",
      "metadata": {
        "id": "view-in-github",
        "colab_type": "text"
      },
      "source": [
        "<a href=\"https://colab.research.google.com/github/jeonhyeeun/challenge/blob/main/5%EC%9E%A5_%EB%8F%84%EC%A0%84%EA%B3%BC%EC%A0%9C_%5B%ED%99%94%ED%95%99%EA%B3%BC_2100563_%EC%A0%84%ED%98%9C%EC%9D%80%5D.ipynb\" target=\"_parent\"><img src=\"https://colab.research.google.com/assets/colab-badge.svg\" alt=\"Open In Colab\"/></a>"
      ]
    },
    {
      "cell_type": "markdown",
      "metadata": {
        "id": "sJG67vKjrq8Q"
      },
      "source": [
        "1) 15세 이상이면 \"이 영화를 보실 수 있습니다.\" 메세지에 추가로 \"영화에 가격은 10000원 입니다.\"를 출력해보자. 만약 15세 미만이면 \"이 영화를 볼 수 없습니다.\" 메세지에 추가로 \"다른 영화를 보시겠어요?\"를 출력해보자."
      ]
    },
    {
      "cell_type": "code",
      "metadata": {
        "id": "VLxlOfwOrjTs"
      },
      "source": [
        "age = int(input(\"나이를 입력하시오: \"))\n",
        "if age >= 15:\n",
        "  print(\"이 영화를 보실 수 있습니다. 영화의 가격은 10000원 입니다.\")\n",
        "else:\n",
        "  print(\"이 영화를 볼 수 없습니다. 다른 영화를 보시겠어요?\")"
      ],
      "execution_count": null,
      "outputs": []
    },
    {
      "cell_type": "markdown",
      "metadata": {
        "id": "VrkwNV-vrsHW"
      },
      "source": [
        "2) (1) 사용자가 \"l\" 또는 \"left\"를 입력하면 왼쪽으로 움직이고 \"r\" 또는 \"right\"를 입력하면 오른쪽으로 이동하도록 소스를 약간 변경해보자.\n",
        "(2) 사용자가 \"q\" 또는 \"quit\"를 입력했을 때, 프로그램을 종료하도록 하라."
      ]
    },
    {
      "cell_type": "code",
      "metadata": {
        "id": "4FlazHjcrsSb"
      },
      "source": [
        "(1)\n",
        "import turtle\n",
        "\n",
        "t = turtle.Turtle()\n",
        "t.width(3)\n",
        "t.shape(\"turtle\")\n",
        "t.shapesize(3, 3)\n",
        "\n",
        "# 무한 루프\n",
        "while answer:\n",
        "  command = input(\"명령을 입력하시오: \")\n",
        "  if command == \"l\" or command == \"left\":\n",
        "    t.left(90)\n",
        "    t.forward(100)\n",
        "  if command == \"r\" or command == \"right\":\n",
        "    t.right(90)\n",
        "    t.forward(100)\n",
        "(2)\n",
        "import turtle\n",
        "\n",
        "t = turtle.Turtle()\n",
        "t.width(3)\n",
        "t.shape(\"turtle\")\n",
        "t.shapesize(3, 3)\n",
        "\n",
        "# 제어변수 flag\n",
        "while flag:\n",
        "  command = input(\"명령을 입력하시오: \")\n",
        "  if command == \"l\" or command == \"left\":\n",
        "    t.left(90)\n",
        "    t.forward(100)\n",
        "  if command == \"r\" or command == \"right\":\n",
        "    t.right(90)\n",
        "    t.forward(100)\n",
        "  if command == \"q\" or command == \"quit\":\n",
        "    flag = False"
      ],
      "execution_count": null,
      "outputs": []
    },
    {
      "cell_type": "markdown",
      "metadata": {
        "id": "FNGdqqkSrsbM"
      },
      "source": [
        "3) 주사위 던지기 게임으로 변환해보자. random.randrange(6)하면 0에서 5까지의 정수를 랜덤하게 생성할 수 있다.\n",
        "{소스 코드}\n",
        "import random\n",
        "\n",
        "print(\"동전던지기 게임을 시작합니다.\")\n",
        "coin = random.randrange(2)\n",
        "if coin == 0 :\n",
        "   print(\"앞면입니다.\")\n",
        "else :\n",
        "   print(\"뒷면입니다.\")\n",
        "print(\"게임이 종료되었습니다.\")"
      ]
    },
    {
      "cell_type": "code",
      "metadata": {
        "id": "0W8F76GDrslX"
      },
      "source": [
        "improt random\n",
        "\n",
        "print(\"주사위 던지기 게임을 시작합니다.\")\n",
        "dice = ramdom.randrange(6)+1\n",
        "print(\"주사위 눈은 \"str(dice) + \"입니다.\")\n",
        "print(\"게임이 종료되었습니다.\")"
      ],
      "execution_count": null,
      "outputs": []
    },
    {
      "cell_type": "markdown",
      "metadata": {
        "id": "CSjs_Zhorssu"
      },
      "source": [
        "4) 종달새가 6시오 9시 사이 또는 14시와 16시 사이에 노래한다고 하면(그리고 날씨는 항상 화창) 위 조건식을 어떻게 변형해야 하는가?"
      ]
    },
    {
      "cell_type": "code",
      "metadata": {
        "id": "nnYP3YmCrs0g"
      },
      "source": [
        "import random\n",
        "time = random.randint(1, 24)\n",
        "print(\"좋은 아침입니다. 지금 시각은 \" + str(time) + \"시 입니다.\")\n",
        "if time >= 6 and time < 16 and True:\n",
        "  print(\"종달새가 노래를 한다.\")\n",
        "else:\n",
        "  print(\"종달새가 노래를 하지 않는다.\")"
      ],
      "execution_count": null,
      "outputs": []
    },
    {
      "cell_type": "markdown",
      "metadata": {
        "id": "j20GfuZTrtBA"
      },
      "source": [
        "5) 아이디 검사가 종료되면 바로 패스워드 검사를 해보자. 즉 다음과 같은 출력을 가지는 프로그램을 작성한다.\n",
        "아이디를 입력하시오: ilovepython\n",
        "패스워드를 입력하시오: 123456\n",
        "환영합니다."
      ]
    },
    {
      "cell_type": "code",
      "metadata": {
        "id": "0Rf83l4frtLL"
      },
      "source": [
        "id = \"iloveyoupython\"\n",
        "pw = \"123456\"\n",
        "s = input(\"아이디를 입력하시오: \")\n",
        "if s == id:\n",
        "  p = input(\"패스워드를 입력하시오: \")\n",
        "  if p == pw:\n",
        "    print(\"환영합니다.\")\n",
        "  else:\n",
        "    print(\"비밀번호가 잘못되었습니다.\")\n",
        "\n",
        "else:\n",
        "  print(\"아이디를 찾을 수 없습니다.\")"
      ],
      "execution_count": null,
      "outputs": []
    },
    {
      "cell_type": "markdown",
      "metadata": {
        "id": "05COfCIFrtSj"
      },
      "source": [
        "6) 골대를 더 여러 영역으로 나누어서 게임을 다시 작성해보자. 즉 왼쪽 상단, 왼쪽 하단, 중앙, 오른쪽 상단, 오른쪽 하단 중에서 하나를 선택하도록 하라."
      ]
    },
    {
      "cell_type": "code",
      "metadata": {
        "id": "L7FHcdR3rtbG"
      },
      "source": [
        "import random\n",
        "\n",
        "options = [\"왼쪽 상단\", \"왼쪽 하단\", \"중앙\", \"오른쪽 상단\", \"오른쪽 하단\"]\n",
        "computer_choice = random.choice(options)\n",
        "user_choice = input(\"어디를 수비하시겠어요?(왼쪽 상단, 왼쪽 하단, 중앙, 오른쪽 상단, 오른쪽하단)\")\n",
        "if computer_choice == user_choice:\n",
        "  print(\"수비에 성공하셨습니다.\")\n",
        "else:\n",
        "  print(\"페널티 킥이 성공하셨습니다.\")"
      ],
      "execution_count": null,
      "outputs": []
    },
    {
      "cell_type": "markdown",
      "metadata": {
        "id": "2Vp4ilqvrtjs"
      },
      "source": [
        "7) 프로그램에서 \"사각형\"만을 지원하고 있다. \"삼각형, \"원\"인 경우에 도형을 그리는 코드를 추가하라.\n",
        "{소스코드}\n",
        "import turtle\n",
        "t = turtle.Turtle\n",
        "t.shape(\"turtle\")\n",
        "\n",
        "s = turtlr.textinput(\"\", \"도형을 입력하시오: \")\n",
        "if s == \"사각형\" :\n",
        "   s = turtle.textinput(\"\",\"가로: \")\n",
        "   w = int(s)\n",
        "   s = turtle.textinput(\"\",\"세로: \")\n",
        "   h = int(s)\n",
        "   t.forward(w)\n",
        "   t.left(90)\n",
        "   t.forward(h)\n",
        "   t.forward(w)\n",
        "   t.left(90)\n",
        "   t.forward(h)"
      ]
    },
    {
      "cell_type": "code",
      "metadata": {
        "id": "1mTR-ylfrtrr"
      },
      "source": [
        "import turtle\n",
        "t = turtle.Turtle\n",
        "t.shape(\"turtle\")\n",
        "\n",
        "s = turtlr.textinput(\"\", \"도형을 입력하시오: \")\n",
        "if s == \"사각형\" :\n",
        "   s = turtle.textinput(\"\",\"가로: \")\n",
        "   w = int(s)\n",
        "   s = turtle.textinput(\"\",\"세로: \")\n",
        "   h = int(s)\n",
        "   t.forward(w)\n",
        "   t.left(90)\n",
        "   t.forward(h)\n",
        "   t.forward(w)\n",
        "   t.left(90)\n",
        "   t.forward(h)\n",
        "elif s == \"삼각형\":\n",
        "  s = turtle.textinput(\"\", \"변: \")\n",
        "  l = int(s)\n",
        "  t.forward(l)\n",
        "  t.left(120)\n",
        "  t.forward(l)\n",
        "  t.left(120)\n",
        "  t.forward(l)\n",
        "elif s == \"원\":\n",
        "  s = turtle.textinput(\"\",\"반지름: \")\n",
        "  r = int(s)\n",
        "  t.circle(r)\n",
        "else:\n",
        "  pass"
      ],
      "execution_count": null,
      "outputs": []
    }
  ]
}