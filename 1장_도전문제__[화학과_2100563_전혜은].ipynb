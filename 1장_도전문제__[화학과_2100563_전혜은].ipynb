{
  "nbformat": 4,
  "nbformat_minor": 0,
  "metadata": {
    "colab": {
      "name": "1장 도전문제 _[화학과 2100563 전혜은]",
      "provenance": [],
      "authorship_tag": "ABX9TyP96IvWx0sPFwu+QEqKyM+z",
      "include_colab_link": true
    },
    "kernelspec": {
      "name": "python3",
      "display_name": "Python 3"
    },
    "language_info": {
      "name": "python"
    }
  },
  "cells": [
    {
      "cell_type": "markdown",
      "metadata": {
        "id": "view-in-github",
        "colab_type": "text"
      },
      "source": [
        "<a href=\"https://colab.research.google.com/github/jeonhyeeun/challenge/blob/main/1%EC%9E%A5_%EB%8F%84%EC%A0%84%EB%AC%B8%EC%A0%9C__%5B%ED%99%94%ED%95%99%EA%B3%BC_2100563_%EC%A0%84%ED%98%9C%EC%9D%80%5D.ipynb\" target=\"_parent\"><img src=\"https://colab.research.google.com/assets/colab-badge.svg\" alt=\"Open In Colab\"/></a>"
      ]
    },
    {
      "cell_type": "markdown",
      "metadata": {
        "id": "6gto2zg0WFX8"
      },
      "source": [
        "1) 한글도 출력될까? 이번에도 따옴표를 올바르게 입력하여야 한다."
      ]
    },
    {
      "cell_type": "markdown",
      "metadata": {
        "id": "0og5r1V9dIfa"
      },
      "source": [
        "(1)\"안녕하세요?\"를 화면에 출력해보자."
      ]
    },
    {
      "cell_type": "code",
      "metadata": {
        "colab": {
          "base_uri": "https://localhost:8080/"
        },
        "id": "scQetDpldQxF",
        "outputId": "278e454f-bbe9-445c-c29e-428dffa2b372"
      },
      "source": [
        "print(\"안녕하세요?\")"
      ],
      "execution_count": 1,
      "outputs": [
        {
          "output_type": "stream",
          "name": "stdout",
          "text": [
            "안녕하세요?\n"
          ]
        }
      ]
    },
    {
      "cell_type": "markdown",
      "metadata": {
        "id": "W5iLs0NGdXrg"
      },
      "source": [
        "(2)\"programming에 입문하신 것을 축하드립니다.\""
      ]
    },
    {
      "cell_type": "code",
      "metadata": {
        "colab": {
          "base_uri": "https://localhost:8080/"
        },
        "id": "AMD6BhF_dg2F",
        "outputId": "34dfc194-5381-493e-c94e-8b680df7c29c"
      },
      "source": [
        "print(\"programming에 입문하신 것을 축하드립니다.\")"
      ],
      "execution_count": 2,
      "outputs": [
        {
          "output_type": "stream",
          "name": "stdout",
          "text": [
            "programming에 입문하신 것을 축하드립니다.\n"
          ]
        }
      ]
    },
    {
      "cell_type": "markdown",
      "metadata": {
        "id": "0jSfq6ZbdqAS"
      },
      "source": [
        "2) 파이썬의 IDLE를 이용하여 다음과 같은 계산을 해보자."
      ]
    },
    {
      "cell_type": "markdown",
      "metadata": {
        "id": "s-arxr-sdw5G"
      },
      "source": [
        "(1) 3.141592 * 10.0 * 10.0"
      ]
    },
    {
      "cell_type": "code",
      "metadata": {
        "colab": {
          "base_uri": "https://localhost:8080/"
        },
        "id": "9a75j1KFd9Xp",
        "outputId": "bd08d642-5d5a-4f57-f5f6-73c1bcf4a2df"
      },
      "source": [
        "print(3.141592 * 10.0 * 10.0)"
      ],
      "execution_count": 3,
      "outputs": [
        {
          "output_type": "execute_result",
          "data": {
            "text/plain": [
              "314.1592"
            ]
          },
          "metadata": {},
          "execution_count": 3
        }
      ]
    },
    {
      "cell_type": "markdown",
      "metadata": {
        "id": "uGcv3CE6eFhC"
      },
      "source": [
        "(2) (1/100) * 1234"
      ]
    },
    {
      "cell_type": "code",
      "metadata": {
        "colab": {
          "base_uri": "https://localhost:8080/"
        },
        "id": "hmZvDUrWefyP",
        "outputId": "934bbf31-e7b3-4705-a164-dd6cb4f6b9f7"
      },
      "source": [
        "print((1/100) * 1234)"
      ],
      "execution_count": 4,
      "outputs": [
        {
          "output_type": "stream",
          "name": "stdout",
          "text": [
            "12.34\n"
          ]
        }
      ]
    },
    {
      "cell_type": "markdown",
      "metadata": {
        "id": "Zf86v-AYeiB6"
      },
      "source": [
        "3) (1) 거북이를 움직여서 정삼각형을 그려보자. 회전하는 각도를 몇 도로 해야 하는가?"
      ]
    },
    {
      "cell_type": "code",
      "metadata": {
        "id": "3oEFS9pZffvL"
      },
      "source": [
        "import turtle\n",
        "t = turtle.Turtle()\n",
        "t.shape(\"turtle\");\n",
        "\n",
        "t.forward(100);\n",
        "t.left(120);\n",
        "\n",
        "t.forward(100);\n",
        "t.left(120);\n",
        "t.forward(100);\n",
        "t.left(120);"
      ],
      "execution_count": null,
      "outputs": []
    },
    {
      "cell_type": "markdown",
      "metadata": {
        "id": "svAaZPxKfRyH"
      },
      "source": [
        "(2) 거북이를 움직여서 정사각형을 그려보자. 회전하는 각도를 몇 도로 해야 하는가?"
      ]
    },
    {
      "cell_type": "code",
      "metadata": {
        "id": "AIblsw5cfnsW"
      },
      "source": [
        "import turtle\n",
        "t = turtle.Turtle()\n",
        "t.shape(\"turtle\");\n",
        "\n",
        "t.forward(100);\n",
        "t.left(90);\n",
        "t.forward(100);\n",
        "t.left(90);\n",
        "t.forward(100);\n",
        "t.left(90);\n",
        "t.forward(100);\n",
        "t.left(90);"
      ],
      "execution_count": null,
      "outputs": []
    },
    {
      "cell_type": "markdown",
      "metadata": {
        "id": "yhfzNnenf6W-"
      },
      "source": [
        "4) 화살표를 움직여서 6각형을 그려보자. 회전하는 각도를 몇 도로 해야 하는가?"
      ]
    },
    {
      "cell_type": "code",
      "metadata": {
        "id": "DWIczad_gPRZ"
      },
      "source": [
        "import turtle\n",
        "t = turtle.Turtle()\n",
        "t.shape(\"turtle\");\n",
        "\n",
        "t.forward(100);\n",
        "t.left(60);\n",
        "t.forward(100);\n",
        "t.left(60);\n",
        "t.forward(100);\n",
        "t.left(60);\n",
        "t.forward(100);\n",
        "t.left(60);\n",
        "t.forward(100);\n",
        "t.left(60);\n",
        "t.forward(100);\n",
        "t.left(60);"
      ],
      "execution_count": null,
      "outputs": []
    }
  ]
}