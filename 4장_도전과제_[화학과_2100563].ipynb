{
  "nbformat": 4,
  "nbformat_minor": 0,
  "metadata": {
    "colab": {
      "name": "4장 도전과제 [화학과 2100563]",
      "provenance": [],
      "authorship_tag": "ABX9TyPTKcyA9PLY6N8mvfoZuWhs",
      "include_colab_link": true
    },
    "kernelspec": {
      "name": "python3",
      "display_name": "Python 3"
    },
    "language_info": {
      "name": "python"
    }
  },
  "cells": [
    {
      "cell_type": "markdown",
      "metadata": {
        "id": "view-in-github",
        "colab_type": "text"
      },
      "source": [
        "<a href=\"https://colab.research.google.com/github/jeonhyeeun/challenge/blob/main/4%EC%9E%A5_%EB%8F%84%EC%A0%84%EA%B3%BC%EC%A0%9C_%5B%ED%99%94%ED%95%99%EA%B3%BC_2100563%5D.ipynb\" target=\"_parent\"><img src=\"https://colab.research.google.com/assets/colab-badge.svg\" alt=\"Open In Colab\"/></a>"
      ]
    },
    {
      "cell_type": "markdown",
      "metadata": {
        "id": "kpOzokiceyCb"
      },
      "source": [
        "1) 사각형이 각 변의 \"안녕하세요? 홍길동씨, 터를 인사드립니다.\"을 출력해보자"
      ]
    },
    {
      "cell_type": "code",
      "metadata": {
        "id": "TlVs4tAveZCm"
      },
      "source": [
        "import turtl\n",
        "t = turtle.Turtle()\n",
        "t.shape(\"turtle\")\n",
        "\n",
        "s = turtle.textinput(''',\"이름을 입력하시오: \")\n",
        "\n",
        "for i in range(4):\n",
        "    t.write(\"안녕하세요?\" + s + \"씨, 터틀 인사드립니다.\")\n",
        "    t.left(90)\n",
        "    t.forward(100)"
      ],
      "execution_count": null,
      "outputs": []
    },
    {
      "cell_type": "markdown",
      "metadata": {
        "id": "Yx-wHRdIe4B2"
      },
      "source": [
        "2) 사용자에게 다른 정보도 물어보고 친근하게 다시 답변해보자. 예를 들어서 취미에 관하여 다음과 같이 질문 할 수도 있다.\n",
        "\"취미가 무엇인가요?\", \"영화감상\"\n",
        "\"네 저도 영화 감상 좋아합니다.\""
      ]
    },
    {
      "cell_type": "code",
      "metadata": {
        "id": "mkR4GYtre413"
      },
      "source": [
        "print(\"안녕하세요?\")\n",
        "name = intput(\"이름이 어떻게 되시나요?\")\n",
        "print(\"만나서 반갑습니다.\" + name + \"씨\")\n",
        "print(\"이름의 길이는 다음과 같군요: \", end = \" \")\n",
        "print(len(name))\n",
        "age = int(input(\"나이가 어떻게 되시나요?\"))\n",
        "print(\"내년이면\", str(age+1), \"이 되시는군요.\")\n",
        "hobby = input(\"취미가 무엇인가요?\")\n",
        "print(\"네 저도\" + hobby + \"좋아합니다.\")"
      ],
      "execution_count": null,
      "outputs": []
    },
    {
      "cell_type": "markdown",
      "metadata": {
        "id": "VLQG4PExe5B1"
      },
      "source": [
        "3) 사용자로부터 현재 날짜를 받아서 \"월/일/연도\" 순으로 출력해보자."
      ]
    },
    {
      "cell_type": "code",
      "metadata": {
        "id": "LDAjE55ye5NJ"
      },
      "source": [
        "year = input(\"오늘의 연도를 입력하시오: \")\n",
        "month = input(\"오늘의 월을 입력하시오: \")\n",
        "date = input(\"오늘의 일을 입력하시오: \")\n",
        "\n",
        "print(month + \"/\", date + \"/\" + year)"
      ],
      "execution_count": null,
      "outputs": []
    },
    {
      "cell_type": "markdown",
      "metadata": {
        "id": "PpWZwmh9e5ZV"
      },
      "source": [
        "4) str()을 사용하지 않고 print(\"올해는 \", thisYear, \"입니다.\")와 같이 쉼표를 사용하여 변수와 문자열을 동시 출력할 수 있는가? 위의 프로그램을 이런 식으로 변경해보자. 어떤 방법이 편리한가?"
      ]
    },
    {
      "cell_type": "code",
      "metadata": {
        "id": "CAlJX6xZe5iG"
      },
      "source": [
        "import time\n",
        "\n",
        "now = time.time()\n",
        "thisYear = int(1970 + now//(365*24*3600))\n",
        "\n",
        "print(\"올해는\", thisYear, \"입니다.\")\n",
        "age = int(input(\"몇 살이신지요?\")\n",
        "print(\"2050년에는\", (age + 2050 - thisYear), \"살 이시군요.\")"
      ],
      "execution_count": null,
      "outputs": []
    }
  ]
}