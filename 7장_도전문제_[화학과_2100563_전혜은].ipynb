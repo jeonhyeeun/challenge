{
  "nbformat": 4,
  "nbformat_minor": 0,
  "metadata": {
    "colab": {
      "name": "7장 도전문제_[화학과 2100563 전혜은]",
      "provenance": [],
      "authorship_tag": "ABX9TyMHeCyVNrJkRof7sIEQrKxF",
      "include_colab_link": true
    },
    "kernelspec": {
      "name": "python3",
      "display_name": "Python 3"
    },
    "language_info": {
      "name": "python"
    }
  },
  "cells": [
    {
      "cell_type": "markdown",
      "metadata": {
        "id": "view-in-github",
        "colab_type": "text"
      },
      "source": [
        "<a href=\"https://colab.research.google.com/github/jeonhyeeun/challenge/blob/main/7%EC%9E%A5_%EB%8F%84%EC%A0%84%EB%AC%B8%EC%A0%9C_%5B%ED%99%94%ED%95%99%EA%B3%BC_2100563_%EC%A0%84%ED%98%9C%EC%9D%80%5D.ipynb\" target=\"_parent\"><img src=\"https://colab.research.google.com/assets/colab-badge.svg\" alt=\"Open In Colab\"/></a>"
      ]
    },
    {
      "cell_type": "markdown",
      "metadata": {
        "id": "-Vrnj2taHf_D"
      },
      "source": [
        "문제 1)"
      ]
    },
    {
      "cell_type": "code",
      "metadata": {
        "id": "DvdpngfWHYLn"
      },
      "source": [
        "import trutle\n",
        "t = turtle.Turtle()\n",
        "t.shape(\"trutle\")\n",
        "\n",
        "def shape(length):\n",
        "  s = turtle.textinput(\"\", \"몇각형을 원하시나요?\")\n",
        "  n = int(s)\n",
        "\n",
        "for i in range(n):\n",
        "  t.forward(length)\n",
        "  t.left(360/n)\n",
        "\n",
        "  t.up\n",
        "  t.goto(-200, 0)\n",
        "  t.down()\n",
        "  t.shape(100);\n",
        "\n",
        "  t.up()\n",
        "  t.goto(200, 0)\n",
        "  t.down()\n",
        " t.shape(100);"
      ],
      "execution_count": null,
      "outputs": []
    },
    {
      "cell_type": "markdown",
      "metadata": {
        "id": "Gyu8SAnjHhEk"
      },
      "source": [
        "문제 2)"
      ]
    },
    {
      "cell_type": "code",
      "metadata": {
        "id": "0vFOWbIsHhNA"
      },
      "source": [
        "import turtle\n",
        "t = turtle.Turtle()\n",
        "t.shape(\"turtle\")\n",
        "\n",
        "def square(length, index):\n",
        "  t.color(colorList[index])\n",
        "  t.begin_fill()\n",
        "  for i in range(4):\n",
        "    t.forward(length)\n",
        "    t.left(90)\n",
        "    t.end_fill()\n",
        "colorList = [\"red\", \"blue\", \"green\"]\n",
        "x = -200\n",
        "\n",
        "for i in range(len(colorList)):\n",
        "  t.up()\n",
        "  t.goto(x, 0)\n",
        "  t.down()\n",
        "  square(100, i)\n",
        "  x+ = 200"
      ],
      "execution_count": null,
      "outputs": []
    },
    {
      "cell_type": "markdown",
      "metadata": {
        "id": "d1HICux7HhUf"
      },
      "source": [
        "문제 3)"
      ]
    },
    {
      "cell_type": "code",
      "metadata": {
        "id": "977ZQXGCHhcT"
      },
      "source": [
        "import turtle\n",
        "t = turtle.Turtle()\n",
        "\n",
        "def n_polygon(n, length):\n",
        "  for i in range(n):\n",
        "    t.forward(length)\n",
        "    t.left(360/n)\n",
        "\n",
        "def get_color(index):\n",
        "  list = [\"red\", \"orange\", \"yellow\", \"green\", \"blue\", \"navy\", \"purple\", \"gray\", \"skyblue\", \"pink\"]\n",
        "  t.color(list[index])\n",
        "  t.begin_fill()\n",
        "  n_polygon(6, 100)\n",
        "  t.end_fill()\n",
        "\n",
        "for i in range(10):\n",
        "  t.left(20)\n",
        "  get_color(i)"
      ],
      "execution_count": null,
      "outputs": []
    },
    {
      "cell_type": "markdown",
      "metadata": {
        "id": "XOZfhSkSHhnt"
      },
      "source": [
        "문제 4)"
      ]
    },
    {
      "cell_type": "code",
      "metadata": {
        "id": "4N9cC98zHhvg"
      },
      "source": [
        "import turtle\n",
        "t = turtle.Turtle\n",
        "\n",
        "def circle(length):\n",
        "  t.circle(length)\n",
        "  t.left(60)\n",
        "\n",
        "def drawit(x,y):\n",
        "  t.penup()\n",
        "  t.goto(x,y)\n",
        "  t.pendown()\n",
        "  t.begin_fill()\n",
        "  t.color(\"green\")\n",
        "  t.circle(50)\n",
        "  t.end_fill()\n",
        "\n",
        "s = turtle.screen()\n",
        "s.onscreenclick(drawit)"
      ],
      "execution_count": null,
      "outputs": []
    },
    {
      "cell_type": "markdown",
      "metadata": {
        "id": "C7lKLzpgHh9S"
      },
      "source": [
        "문제 5)"
      ]
    },
    {
      "cell_type": "code",
      "metadata": {
        "id": "1gbcxcysHiJA"
      },
      "source": [
        "import turtle\n",
        "import random\n",
        "\n",
        "def tree(length):\n",
        "  angle = (random.randint(-20,20))\n",
        "  if length > 5:\n",
        "    t.forward(length)\n",
        "    t.right(20 + angle)\n",
        "\n",
        "tree(length-15 *(random.random()+0.4))\n",
        "t.left(40 + (angle * 2))\n",
        "tree(length-15 *(random.random()+0.4))\n",
        "\n",
        "t.backward(length)\n",
        "\n",
        "t = turtle.Turtle()\n",
        "t.left(90)\n",
        "\n",
        "t.color(\"green\")\n",
        "t.speed(1)\n",
        "tree(90)"
      ],
      "execution_count": null,
      "outputs": []
    }
  ]
}