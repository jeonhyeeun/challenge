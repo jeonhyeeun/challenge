{
  "nbformat": 4,
  "nbformat_minor": 0,
  "metadata": {
    "colab": {
      "name": "2장_도전과제 [화학과 2100563 전혜은]",
      "provenance": [],
      "authorship_tag": "ABX9TyMIt929upYTnSBAqrjF5tn+",
      "include_colab_link": true
    },
    "kernelspec": {
      "name": "python3",
      "display_name": "Python 3"
    },
    "language_info": {
      "name": "python"
    }
  },
  "cells": [
    {
      "cell_type": "markdown",
      "metadata": {
        "id": "view-in-github",
        "colab_type": "text"
      },
      "source": [
        "<a href=\"https://colab.research.google.com/github/jeonhyeeun/challenge/blob/main/2%EC%9E%A5_%EB%8F%84%EC%A0%84%EA%B3%BC%EC%A0%9C_%5B%ED%99%94%ED%95%99%EA%B3%BC_2100563_%EC%A0%84%ED%98%9C%EC%9D%80%5D.ipynb\" target=\"_parent\"><img src=\"https://colab.research.google.com/assets/colab-badge.svg\" alt=\"Open In Colab\"/></a>"
      ]
    },
    {
      "cell_type": "markdown",
      "metadata": {
        "id": "kcHlU5NMVDF4"
      },
      "source": [
        "1. 무엇이 출력될까?"
      ]
    },
    {
      "cell_type": "markdown",
      "metadata": {
        "id": "GM_Tcb-AVkZl"
      },
      "source": [
        "(1) x = 7\n",
        "    y = 6\n",
        "    print(x + y)\n",
        "    (         )"
      ]
    },
    {
      "cell_type": "code",
      "metadata": {
        "colab": {
          "base_uri": "https://localhost:8080/"
        },
        "id": "zTbccGF5UvTV",
        "outputId": "f8715768-17e7-4b3a-cda5-2bafc4003724"
      },
      "source": [
        "x = 7\n",
        "y = 6\n",
        "print(x + y)"
      ],
      "execution_count": 1,
      "outputs": [
        {
          "output_type": "stream",
          "name": "stdout",
          "text": [
            "13\n"
          ]
        }
      ]
    },
    {
      "cell_type": "markdown",
      "metadata": {
        "id": "LsyF_LnRVrFP"
      },
      "source": [
        "(2) x = '7'\n",
        "    y = '6'\n",
        "    print(x + y)"
      ]
    },
    {
      "cell_type": "code",
      "metadata": {
        "colab": {
          "base_uri": "https://localhost:8080/"
        },
        "id": "HBHjXHmuV0N4",
        "outputId": "cb564095-d59f-4c9d-c3c1-78089b83a5d2"
      },
      "source": [
        "x = '7'\n",
        "y = '6'\n",
        "print(x + y)"
      ],
      "execution_count": 2,
      "outputs": [
        {
          "output_type": "stream",
          "name": "stdout",
          "text": [
            "76\n"
          ]
        }
      ]
    },
    {
      "cell_type": "markdown",
      "metadata": {
        "id": "e3dj9WzYV5VU"
      },
      "source": [
        "2. 거북이가 앞으로 움직이는 거리도 변수 x에 저장하여 보자. 변수의 값을 변경하면서 위의 프로그램을 실행하여보자."
      ]
    },
    {
      "cell_type": "code",
      "metadata": {
        "id": "KdB9yvW4WDZb"
      },
      "source": [
        "import turtle\n",
        "t = turtle. Turtle()\n",
        "t.shape(\"turtle\")\n",
        "radius = 50\n",
        "x = 30\n",
        "t.circle(radius)\n",
        "t.fd(x)\n",
        "t.circle(radius)\n",
        "x = 50\n",
        "t.fd(x)\n",
        "t.circle(radius)"
      ],
      "execution_count": null,
      "outputs": []
    },
    {
      "cell_type": "markdown",
      "metadata": {
        "id": "ShU2G2KXWqhE"
      },
      "source": [
        "3. 사용자로부터 2개의 정수를 받아서 사칙연산(+, -, *, /)을 한 후에 결과를 출력하는 프로그램을 작성해보자."
      ]
    },
    {
      "cell_type": "code",
      "metadata": {
        "id": "HdZWjUc7W9j8"
      },
      "source": [
        "x = int(input(\"첫번째 정수를 입력하시오.: \"))\n",
        "y = int(input(\"두번째 정수를 입력하시오.: \"))\n",
        "\n",
        "print(x, \"+\", y, \"=\", x + y)\n",
        "print(x, \"-\", y, \"=\", x - y)\n",
        "print(x, \"*\", y, \"=\", x * y)\n",
        "print(x, \"/\", y, \"=\", x / y)"
      ],
      "execution_count": null,
      "outputs": []
    }
  ]
}