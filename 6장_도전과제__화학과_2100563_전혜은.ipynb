{
  "nbformat": 4,
  "nbformat_minor": 0,
  "metadata": {
    "colab": {
      "name": "6장 도전과제 _화학과 2100563 전혜은",
      "provenance": [],
      "authorship_tag": "ABX9TyMvA4QxKJXvWoga2mFfWkS8",
      "include_colab_link": true
    },
    "kernelspec": {
      "name": "python3",
      "display_name": "Python 3"
    },
    "language_info": {
      "name": "python"
    }
  },
  "cells": [
    {
      "cell_type": "markdown",
      "metadata": {
        "id": "view-in-github",
        "colab_type": "text"
      },
      "source": [
        "<a href=\"https://colab.research.google.com/github/jeonhyeeun/challenge/blob/main/6%EC%9E%A5_%EB%8F%84%EC%A0%84%EA%B3%BC%EC%A0%9C__%ED%99%94%ED%95%99%EA%B3%BC_2100563_%EC%A0%84%ED%98%9C%EC%9D%80.ipynb\" target=\"_parent\"><img src=\"https://colab.research.google.com/assets/colab-badge.svg\" alt=\"Open In Colab\"/></a>"
      ]
    },
    {
      "cell_type": "markdown",
      "metadata": {
        "id": "ReBfjSLbP6Jz"
      },
      "source": [
        "문제 1)"
      ]
    },
    {
      "cell_type": "code",
      "metadata": {
        "id": "HF8ircCeIA4K"
      },
      "source": [
        "import turtle\n",
        "t = turtle.Turtle()\n",
        "t.shape(\"turtle\")\n",
        "\n",
        "for i in range(6):\n",
        "  t.forward(100)\n",
        "  t.left(360/6)"
      ],
      "execution_count": null,
      "outputs": []
    },
    {
      "cell_type": "markdown",
      "metadata": {
        "id": "pnKKTRx9QBp1"
      },
      "source": [
        "문제 2)"
      ]
    },
    {
      "cell_type": "code",
      "metadata": {
        "id": "6ctBF6WFQCbA"
      },
      "source": [
        "import turtle\n",
        "t = turtle.Turtle\n",
        "t.shape(\"turtle\")\n",
        "\n",
        "s = turtle.textinput(\"\", \"몇각형을 원하시나요?: \")\n",
        "n = int(s)\n",
        "s = turtle.textinput(\"\", \"한변의 크기를 입력해주세요.\")\n",
        "len = int(s)\n",
        "for i in range(n):\n",
        "  length = random.randint(1,100)\n",
        "  t.forward(length)\n",
        "  angle = random.randint(1,4)\n",
        "  t.right(90 * angle)"
      ],
      "execution_count": null,
      "outputs": []
    },
    {
      "cell_type": "markdown",
      "metadata": {
        "id": "LOhR8r7NQCpY"
      },
      "source": [
        "문제 3)"
      ]
    },
    {
      "cell_type": "code",
      "metadata": {
        "id": "ipQ6GobHQC0C"
      },
      "source": [
        "import turtle\n",
        "import random\n",
        "\n",
        "clors = [\"red\", \"purple\", \"blue\", \"green\", \"yellow\", \"orange\"]\n",
        "t = turtle.Turtle()\n",
        "turtle.bgcolor(\"black\")\n",
        "t.speed(0)\n",
        "t.width(3)\n",
        "\n",
        "length = 10\n",
        "while length < 500:\n",
        "  t.forward(length)\n",
        "  t.pencolor(colors[length%6]\n",
        "  angle = random.randint(1,100)\n",
        "  t.right(angle)\n",
        "  length += 5\n"
      ],
      "execution_count": null,
      "outputs": []
    },
    {
      "cell_type": "markdown",
      "metadata": {
        "id": "QzW1LHA_QC93"
      },
      "source": [
        "문제 4)"
      ]
    },
    {
      "cell_type": "code",
      "metadata": {
        "id": "6OKL85AZQDQ7"
      },
      "source": [
        "import random\n",
        "\n",
        "tries = 0\n",
        "guess = 0\n",
        "answer = random.randint(1,100)\n",
        "\n",
        "print(\"1부터 100사이의 숫자를 맞추시오.\")\n",
        "\n",
        "while guess != answer:\n",
        "  if tries < 10:\n",
        "    guess = int(input(\"숫자를 입력하시오: \"))\n",
        "    tries = tries + 1\n",
        "    if guess < answer:\n",
        "      print(\"낮음!\"):\n",
        "    elif guess > answer:\n",
        "      print(\"높음!\")\n",
        "  else:\n",
        "    print(\"시도횟수를 초과하였습니다.\")\n",
        "    break\n",
        "\n",
        "if guess == answer:\n",
        "  print(\"축하합니다. 시도횟수는= \", tries)\n",
        "else:\n",
        "  print(\"정답은 \", answer)"
      ],
      "execution_count": null,
      "outputs": []
    },
    {
      "cell_type": "markdown",
      "metadata": {
        "id": "MDLrZXSoQDre"
      },
      "source": [
        "문제 5)"
      ]
    },
    {
      "cell_type": "code",
      "metadata": {
        "id": "rPya84hlQDzL"
      },
      "source": [
        "import random\n",
        "\n",
        "while True:\n",
        "  q = random.randit(0,1)\n",
        "  x = random.randit(1,100)\n",
        "  y = random.randit(1,100)\n",
        "  if (q == 1) & (x > y):\n",
        "    print(x, \"-\", y, \"=\", end=\"\")\n",
        "    answer = int(input())\n",
        "    if answer == x - y:\n",
        "      print(\"잘했어요!!\")\n",
        "    else:\n",
        "        print(\"다음번에는 잘할 수 있죠?)\n",
        "  else:\n",
        "    print(x, \"+\", y, \"=\", end=\"\")\n",
        "    answer = int(input())\n",
        "        if answer == x + y:\n",
        "             print(\"잘했어요!!\")\n",
        "        else:\n",
        "            print(\"다음번에는 잘할 수 있죠?\")"
      ],
      "execution_count": null,
      "outputs": []
    },
    {
      "cell_type": "markdown",
      "metadata": {
        "id": "6A_lqxVyQD6r"
      },
      "source": [
        "문제 6)"
      ]
    },
    {
      "cell_type": "code",
      "metadata": {
        "id": "wpClCOxPQEDF"
      },
      "source": [
        "import random\n",
        "num = random.radint(1,8)\n",
        "\n",
        "list = [\"한 점의 의심도 없이 맞습니다.\", \"할 수 있습니다.\", \"물론입니다.\", \"글쎄요. 열심히 해야 할 것입니다.\", \"안 될것 같습니다.\", \"조금 더 노력하세요.\", \"행운을 빕니다.\", \"다음달에 할 수 있을 겁니다.\"]\n",
        "\n",
        "while Ture:\n",
        "  name = input(\"이름: (종료하려면 엔터키) \")\n",
        "  if name == \":\n",
        "  break;\n",
        "  question = input(\"무엇에 대하여 알고 싶은가요?\")\n",
        "  print(name, \"님\", \"\\\", question, \"\\\"에 대하여 질문 주셨군요.\")\n",
        "  print(\"운명의 주사위를 굴려볼게요.\"\n",
        "  print(list[num-1])"
      ],
      "execution_count": null,
      "outputs": []
    }
  ]
}